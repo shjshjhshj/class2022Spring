{
  "nbformat": 4,
  "nbformat_minor": 0,
  "metadata": {
    "kernelspec": {
      "display_name": "Python 3",
      "language": "python",
      "name": "python3"
    },
    "language_info": {
      "codemirror_mode": {
        "name": "ipython",
        "version": 3
      },
      "file_extension": ".py",
      "mimetype": "text/x-python",
      "name": "python",
      "nbconvert_exporter": "python",
      "pygments_lexer": "ipython3",
      "version": "3.7.1"
    },
    "colab": {
      "name": "variables.ipynb",
      "provenance": [],
      "include_colab_link": true
    }
  },
  "cells": [
    {
      "cell_type": "markdown",
      "metadata": {
        "id": "view-in-github",
        "colab_type": "text"
      },
      "source": [
        "<a href=\"https://colab.research.google.com/github/shjshjhshj/class2022Spring/blob/main/20220309.ipynb\" target=\"_parent\"><img src=\"https://colab.research.google.com/assets/colab-badge.svg\" alt=\"Open In Colab\"/></a>"
      ]
    },
    {
      "cell_type": "code",
      "metadata": {
        "id": "goAyoU7vRheI",
        "outputId": "7534a9ca-3fad-4541-9533-aa711a330cb4",
        "colab": {
          "base_uri": "https://localhost:8080/"
        }
      },
      "source": [
        "a = 1; print(type(a))"
      ],
      "execution_count": 1,
      "outputs": [
        {
          "output_type": "stream",
          "name": "stdout",
          "text": [
            "<class 'int'>\n"
          ]
        }
      ]
    },
    {
      "cell_type": "code",
      "source": [
        "b = 1\n",
        "print(a)\n"
      ],
      "metadata": {
        "colab": {
          "base_uri": "https://localhost:8080/"
        },
        "id": "t96pNAbMe3Wm",
        "outputId": "17307dc9-9f20-4fb8-ca7f-7310bb41cf09"
      },
      "execution_count": 3,
      "outputs": [
        {
          "output_type": "stream",
          "name": "stdout",
          "text": [
            "1\n"
          ]
        }
      ]
    },
    {
      "cell_type": "code",
      "source": [
        "b=3"
      ],
      "metadata": {
        "id": "sPBL-cOrfMX-"
      },
      "execution_count": 4,
      "outputs": []
    },
    {
      "cell_type": "code",
      "source": [
        "print(b)"
      ],
      "metadata": {
        "colab": {
          "base_uri": "https://localhost:8080/"
        },
        "id": "dY5nb7xlfOjQ",
        "outputId": "3c7dc969-dc5e-4559-fc15-494dcb6c3340"
      },
      "execution_count": 5,
      "outputs": [
        {
          "output_type": "stream",
          "name": "stdout",
          "text": [
            "3\n"
          ]
        }
      ]
    },
    {
      "cell_type": "code",
      "metadata": {
        "id": "txxnoqJuRheJ",
        "outputId": "3cc2d1da-1210-45e1-fea4-0f56c9137025",
        "colab": {
          "base_uri": "https://localhost:8080/"
        }
      },
      "source": [
        "a = 1.1; print(type(a))"
      ],
      "execution_count": 7,
      "outputs": [
        {
          "output_type": "stream",
          "name": "stdout",
          "text": [
            "<class 'float'>\n"
          ]
        }
      ]
    },
    {
      "cell_type": "code",
      "metadata": {
        "id": "SyP0PB86RheL",
        "outputId": "44421e50-87e0-473b-fbf3-ea8de328ef7c",
        "colab": {
          "base_uri": "https://localhost:8080/"
        }
      },
      "source": [
        "a = '123'; print(type(a)); print(a[1])"
      ],
      "execution_count": 9,
      "outputs": [
        {
          "output_type": "stream",
          "name": "stdout",
          "text": [
            "<class 'str'>\n",
            "2\n"
          ]
        }
      ]
    },
    {
      "cell_type": "code",
      "metadata": {
        "id": "EKYj0dvIHPo0",
        "outputId": "bfc292b4-f22b-4313-907a-bb415ffb00de",
        "colab": {
          "base_uri": "https://localhost:8080/"
        }
      },
      "source": [
        "a = 'hello'; print(type(a)); print(a[1])"
      ],
      "execution_count": 10,
      "outputs": [
        {
          "output_type": "stream",
          "name": "stdout",
          "text": [
            "<class 'str'>\n",
            "e\n"
          ]
        }
      ]
    },
    {
      "cell_type": "code",
      "metadata": {
        "id": "Df6PhU-tHXr2",
        "outputId": "2e905731-dea3-4c81-9f80-dba20f4edf36",
        "colab": {
          "base_uri": "https://localhost:8080/"
        }
      },
      "source": [
        "a = [1, 2, 3, 4,5,6,7,8,9,10]; print(type(a)); print(a[0])"
      ],
      "execution_count": 22,
      "outputs": [
        {
          "output_type": "stream",
          "name": "stdout",
          "text": [
            "<class 'list'>\n",
            "1\n"
          ]
        }
      ]
    },
    {
      "cell_type": "code",
      "source": [
        "a[:3]"
      ],
      "metadata": {
        "colab": {
          "base_uri": "https://localhost:8080/"
        },
        "id": "kG_xZ1yJjZRX",
        "outputId": "cc2ae317-6e06-4ef1-c61d-91913342e9a6"
      },
      "execution_count": 26,
      "outputs": [
        {
          "output_type": "execute_result",
          "data": {
            "text/plain": [
              "[1, 2, 3]"
            ]
          },
          "metadata": {},
          "execution_count": 26
        }
      ]
    },
    {
      "cell_type": "markdown",
      "source": [
        "a[0] = a의 0번째를 가져와라\n",
        "왜 프린트 없이도 나오나 마지막줄에 있는거 프린트 안해도 값 나옴.\n",
        "처음부터 끝까지 a[:]\n",
        "a = [1, 2, 3, 4,5,6,7,8,9,10] 인경우\n",
        "3, 4,5,6,7,8,9 만 출력하고 싶은 경우\n",
        "a[2:-1]"
      ],
      "metadata": {
        "id": "w_1f8wpcjhs0"
      }
    },
    {
      "cell_type": "code",
      "source": [
        "a = [1,'a', [3, '4']];"
      ],
      "metadata": {
        "id": "q8Wh3sjjlMwy"
      },
      "execution_count": 27,
      "outputs": []
    },
    {
      "cell_type": "code",
      "source": [
        "a[2][0]"
      ],
      "metadata": {
        "colab": {
          "base_uri": "https://localhost:8080/"
        },
        "id": "AG0HMS7jlRLd",
        "outputId": "89b6c807-808e-49b9-be21-e3b34ecf5023"
      },
      "execution_count": 29,
      "outputs": [
        {
          "output_type": "execute_result",
          "data": {
            "text/plain": [
              "3"
            ]
          },
          "metadata": {},
          "execution_count": 29
        }
      ]
    },
    {
      "cell_type": "code",
      "metadata": {
        "id": "DfS-gknCRheL",
        "outputId": "515a7de3-6126-472e-f48e-31418c41f9b1",
        "colab": {
          "base_uri": "https://localhost:8080/"
        }
      },
      "source": [
        "a = [1,'a', [3, '4']]; print(type(a)); print(a[0]); print(a[1]); print(a[2]); print(a[2][1])"
      ],
      "execution_count": 13,
      "outputs": [
        {
          "output_type": "stream",
          "name": "stdout",
          "text": [
            "<class 'list'>\n",
            "1\n",
            "a\n",
            "[3, '4']\n",
            "4\n"
          ]
        }
      ]
    },
    {
      "cell_type": "code",
      "source": [
        "a = 'abcdef123'"
      ],
      "metadata": {
        "id": "In8ZCOxflpNQ"
      },
      "execution_count": 30,
      "outputs": []
    },
    {
      "cell_type": "code",
      "source": [
        "a[3:-1]"
      ],
      "metadata": {
        "colab": {
          "base_uri": "https://localhost:8080/",
          "height": 35
        },
        "id": "njzlXC56lwus",
        "outputId": "f39e1737-562f-48a4-8e3f-d97b49bd2fd5"
      },
      "execution_count": 35,
      "outputs": [
        {
          "output_type": "execute_result",
          "data": {
            "text/plain": [
              "'def12'"
            ],
            "application/vnd.google.colaboratory.intrinsic+json": {
              "type": "string"
            }
          },
          "metadata": {},
          "execution_count": 35
        }
      ]
    },
    {
      "cell_type": "code",
      "metadata": {
        "id": "2sivfloGRheM"
      },
      "source": [
        "a =\t{\"a\": \"apple\", \"b\": \"orange\", \"c\": 2014}\n"
      ],
      "execution_count": 44,
      "outputs": []
    },
    {
      "cell_type": "code",
      "source": [
        "a[\"a\"] "
      ],
      "metadata": {
        "colab": {
          "base_uri": "https://localhost:8080/",
          "height": 35
        },
        "id": "AdWpSJzvnHn2",
        "outputId": "1450724d-78ee-4800-fc01-1e3afb3cc875"
      },
      "execution_count": 45,
      "outputs": [
        {
          "output_type": "execute_result",
          "data": {
            "text/plain": [
              "'apple'"
            ],
            "application/vnd.google.colaboratory.intrinsic+json": {
              "type": "string"
            }
          },
          "metadata": {},
          "execution_count": 45
        }
      ]
    },
    {
      "cell_type": "code",
      "source": [
        "a = (1,2,3)"
      ],
      "metadata": {
        "id": "g35ybRj-mSnJ"
      },
      "execution_count": 40,
      "outputs": []
    },
    {
      "cell_type": "code",
      "source": [
        "a[1]=0"
      ],
      "metadata": {
        "colab": {
          "base_uri": "https://localhost:8080/",
          "height": 173
        },
        "id": "xLrMcjWamZr5",
        "outputId": "ca6f17d1-8ec2-4fcf-dcd4-e770038cc28e"
      },
      "execution_count": 42,
      "outputs": [
        {
          "output_type": "error",
          "ename": "TypeError",
          "evalue": "ignored",
          "traceback": [
            "\u001b[0;31m---------------------------------------------------------------------------\u001b[0m",
            "\u001b[0;31mTypeError\u001b[0m                                 Traceback (most recent call last)",
            "\u001b[0;32m<ipython-input-42-2226a346ff5c>\u001b[0m in \u001b[0;36m<module>\u001b[0;34m()\u001b[0m\n\u001b[0;32m----> 1\u001b[0;31m \u001b[0ma\u001b[0m\u001b[0;34m[\u001b[0m\u001b[0;36m1\u001b[0m\u001b[0;34m]\u001b[0m\u001b[0;34m=\u001b[0m\u001b[0;36m0\u001b[0m\u001b[0;34m\u001b[0m\u001b[0;34m\u001b[0m\u001b[0m\n\u001b[0m",
            "\u001b[0;31mTypeError\u001b[0m: 'tuple' object does not support item assignment"
          ]
        }
      ]
    },
    {
      "cell_type": "markdown",
      "source": [
        "tuple은 수정불가"
      ],
      "metadata": {
        "id": "WGF-SMH_mnza"
      }
    },
    {
      "cell_type": "markdown",
      "source": [
        ""
      ],
      "metadata": {
        "id": "XcInrJd_mdl5"
      }
    },
    {
      "cell_type": "code",
      "source": [
        "print(a)"
      ],
      "metadata": {
        "colab": {
          "base_uri": "https://localhost:8080/"
        },
        "id": "0LNTtLSEmVvd",
        "outputId": "68acf054-ed28-4f1e-b8eb-bd9e728aac3a"
      },
      "execution_count": 39,
      "outputs": [
        {
          "output_type": "stream",
          "name": "stdout",
          "text": [
            "[1, 0, 3]\n"
          ]
        }
      ]
    }
  ]
}